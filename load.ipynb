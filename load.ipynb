{
 "cells": [
  {
   "cell_type": "code",
   "execution_count": 5,
   "id": "9f5fdd39",
   "metadata": {},
   "outputs": [
    {
     "name": "stdout",
     "output_type": "stream",
     "text": [
      "Collecting mysql-connector-python\n",
      "  Downloading mysql_connector_python-9.4.0-cp311-cp311-macosx_14_0_arm64.whl.metadata (7.3 kB)\n",
      "Downloading mysql_connector_python-9.4.0-cp311-cp311-macosx_14_0_arm64.whl (17.5 MB)\n",
      "\u001b[2K   \u001b[90m━━━━━━━━━━━━━━━━━━━━━━━━━━━━━━━━━━━━━━━━\u001b[0m \u001b[32m17.5/17.5 MB\u001b[0m \u001b[31m2.7 MB/s\u001b[0m eta \u001b[36m0:00:00\u001b[0m00:01\u001b[0m00:01\u001b[0m\n",
      "\u001b[?25hInstalling collected packages: mysql-connector-python\n",
      "Successfully installed mysql-connector-python-9.4.0\n",
      "\n",
      "\u001b[1m[\u001b[0m\u001b[34;49mnotice\u001b[0m\u001b[1;39;49m]\u001b[0m\u001b[39;49m A new release of pip is available: \u001b[0m\u001b[31;49m25.1.1\u001b[0m\u001b[39;49m -> \u001b[0m\u001b[32;49m25.2\u001b[0m\n",
      "\u001b[1m[\u001b[0m\u001b[34;49mnotice\u001b[0m\u001b[1;39;49m]\u001b[0m\u001b[39;49m To update, run: \u001b[0m\u001b[32;49mpip install --upgrade pip\u001b[0m\n",
      "Note: you may need to restart the kernel to use updated packages.\n"
     ]
    }
   ],
   "source": [
    "pip install mysql-connector-python\n"
   ]
  },
  {
   "cell_type": "code",
   "execution_count": 3,
   "id": "8428a374",
   "metadata": {},
   "outputs": [
    {
     "name": "stdout",
     "output_type": "stream",
     "text": [
      "Connected to MySQL database\n"
     ]
    }
   ],
   "source": [
    "import pandas as pd\n",
    "import mysql.connector\n",
    "\n",
    "# Step 1: Read CSV using pandas\n",
    "csv_file_path = '/Users/pratiibhas/Downloads/PAN Card Validation in SQL - Scripts/PAN Number Validation Dataset.csv'\n",
    "df = pd.read_csv(csv_file_path)\n",
    "\n",
    "# Step 2: Connect to MySQL database\n",
    "conn = mysql.connector.connect(\n",
    "    host='localhost',       # e.g. 'localhost'\n",
    "    user='root',   # your MySQL username\n",
    "    password='1234',   # your MySQL password\n",
    "    database='demo'    # the database name\n",
    ")\n",
    "\n",
    "cursor = conn.cursor()\n",
    "\n",
    "# Example: Print connection status\n",
    "print(\"Connected to MySQL database\")"
   ]
  },
  {
   "cell_type": "code",
   "execution_count": null,
   "id": "101cd9d5",
   "metadata": {},
   "outputs": [
    {
     "name": "stdout",
     "output_type": "stream",
     "text": [
      "Data inserted successfully\n"
     ]
    }
   ],
   "source": [
    "# Example: Insert pandas DataFrame rows into a MySQL table\n",
    "table_name = 'pan_card_validation'\n",
    "for i, row in df.iterrows():\n",
    "    sql = f\"INSERT INTO {table_name} (Pan_Numbers) VALUES (%s)\"\n",
    "    values = (row['Pan_Numbers'],)  #  column names as per our CSV and table\n",
    "    cursor.execute(sql, values)\n",
    "\n",
    "# Commit changes\n",
    "conn.commit()\n",
    "\n",
    "# Close connections\n",
    "cursor.close()\n",
    "conn.close()\n",
    "\n",
    "print(\"Data inserted successfully\")\n"
   ]
  },
  {
   "cell_type": "code",
   "execution_count": null,
   "id": "aa8af800",
   "metadata": {},
   "outputs": [
    {
     "name": "stdout",
     "output_type": "stream",
     "text": [
      "Index(['Pan_Numbers'], dtype='object')\n"
     ]
    }
   ],
   "source": [
    "print(df.columns)"
   ]
  },
  {
   "cell_type": "code",
   "execution_count": null,
   "id": "de30ad16",
   "metadata": {},
   "outputs": [],
   "source": [
    "df.head(150)"
   ]
  }
 ],
 "metadata": {
  "kernelspec": {
   "display_name": "3.11.6",
   "language": "python",
   "name": "python3"
  },
  "language_info": {
   "codemirror_mode": {
    "name": "ipython",
    "version": 3
   },
   "file_extension": ".py",
   "mimetype": "text/x-python",
   "name": "python",
   "nbconvert_exporter": "python",
   "pygments_lexer": "ipython3",
   "version": "3.11.6"
  }
 },
 "nbformat": 4,
 "nbformat_minor": 5
}
